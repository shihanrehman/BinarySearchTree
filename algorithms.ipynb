{
  "nbformat": 4,
  "nbformat_minor": 0,
  "metadata": {
    "colab": {
      "name": "Untitled0.ipynb",
      "version": "0.3.2",
      "provenance": [],
      "collapsed_sections": [],
      "include_colab_link": true
    },
    "kernelspec": {
      "name": "python3",
      "display_name": "Python 3"
    }
  },
  "cells": [
    {
      "cell_type": "markdown",
      "metadata": {
        "id": "view-in-github",
        "colab_type": "text"
      },
      "source": [
        "<a href=\"https://colab.research.google.com/github/shihanrehman/BinarySearchTree/blob/master/algorithms.ipynb\" target=\"_parent\"><img src=\"https://colab.research.google.com/assets/colab-badge.svg\" alt=\"Open In Colab\"/></a>"
      ]
    },
    {
      "metadata": {
        "id": "XV8uG0vM-nFA",
        "colab_type": "code",
        "outputId": "6d58b890-6806-4606-e825-cf7b93d4aa10",
        "colab": {
          "base_uri": "https://localhost:8080/",
          "height": 73
        }
      },
      "cell_type": "code",
      "source": [
        "def common_elements(list1, list2):\n",
        "    p1 = 0\n",
        "    p2 = 0\n",
        "    result = []\n",
        "    while p1 < len(list1) and p2 < len(list2):\n",
        "        if list1[p1] == list2[p2]:\n",
        "            result.append(list1[p1])\n",
        "            p1 += 1\n",
        "            p2 += 1\n",
        "        elif list1[p1] > list2[p2]:\n",
        "            p2 += 1\n",
        "        else:\n",
        "            p1 += 1\n",
        "    print (result)\n",
        "\n",
        "\n",
        "# NOTE: The following input values will be used for testing your solution.\n",
        "list_a1 = [1, 3, 4, 6, 7, 9]\n",
        "list_a2 = [1, 2, 4, 5, 9, 10]\n",
        "common_elements(list_a1, list_a2)\n",
        "#should return [1, 4, 9] (a list).\n",
        "\n",
        "list_b1 = [1, 2, 9, 10, 11, 12]\n",
        "list_b2 = [0, 1, 2, 3, 4, 5, 8, 9, 10, 12, 14, 15]\n",
        "common_elements(list_b1, list_b2) \n",
        "\n",
        "list_c1 = [0, 1, 2, 3, 4, 5]\n",
        "list_c2 = [6, 7, 8, 9, 10, 11]\n",
        "common_elements(list_c1, list_c2)"
      ],
      "execution_count": 0,
      "outputs": [
        {
          "output_type": "stream",
          "text": [
            "[1, 4, 9]\n",
            "[1, 2, 9, 10, 12]\n",
            "[]\n"
          ],
          "name": "stdout"
        }
      ]
    },
    {
      "metadata": {
        "id": "97nFxD4zDHqy",
        "colab_type": "code",
        "outputId": "d50be57c-bc7e-4a79-bdd5-26df6e6a14c5",
        "colab": {
          "base_uri": "https://localhost:8080/",
          "height": 92
        }
      },
      "cell_type": "code",
      "source": [
        "class Node:\n",
        "\n",
        "    def __init__(self, data):\n",
        "\n",
        "        self.left = None\n",
        "        self.right = None\n",
        "        self.data = data\n",
        "\n",
        "    def insert(self, data):\n",
        "# Compare the new value with the parent node\n",
        "        if self.data:\n",
        "            if data < self.data:\n",
        "                if self.left is None:\n",
        "                    self.left = Node(data)\n",
        "                else:\n",
        "                    self.left.insert(data)\n",
        "            elif data > self.data:\n",
        "                if self.right is None:\n",
        "                    self.right = Node(data)\n",
        "                else:\n",
        "                    self.right.insert(data)\n",
        "        else:\n",
        "            self.data = data\n",
        "\n",
        "# Print the tree\n",
        "    def PrintTree(self):\n",
        "        if self.left:\n",
        "            self.left.PrintTree()\n",
        "        print( self.data),\n",
        "        if self.right:\n",
        "            self.right.PrintTree()\n",
        "\n",
        "# Use the insert method to add nodes\n",
        "root = Node(12)\n",
        "root.insert(6)\n",
        "root.insert(14)\n",
        "root.insert(3)\n",
        "\n",
        "root.PrintTree()"
      ],
      "execution_count": 0,
      "outputs": [
        {
          "output_type": "stream",
          "text": [
            "3\n",
            "6\n",
            "12\n",
            "14\n"
          ],
          "name": "stdout"
        }
      ]
    },
    {
      "metadata": {
        "id": "5WNva-HgrMjd",
        "colab_type": "code",
        "outputId": "15a3512c-329e-43cb-c927-f210fceddea9",
        "colab": {
          "base_uri": "https://localhost:8080/",
          "height": 54
        }
      },
      "cell_type": "code",
      "source": [
        "\n",
        "# Python3 implementation to find \n",
        "# square root of given number \n",
        "# upto given precision using \n",
        "# binary search. \n",
        "  \n",
        "# Function to find square root of \n",
        "# given number upto given precision \n",
        "def squareRoot(number, precision): \n",
        "  \n",
        "    start = 0               #start = 0\n",
        "    end = number            #end = number = 5\n",
        "  \n",
        "    # For computing integral part \n",
        "    # of square root of number \n",
        "    while (start <= end) : # 0 <= 5\n",
        "        mid = int((start + end) / 2)   #mid = 2\n",
        "        if (mid * mid == number) :  #if 4 == 5\n",
        "            ans = mid   #2 = answer\n",
        "            break \n",
        "        # incrementing start if integral \n",
        "        # part lies on right side of the mid \n",
        "        if (mid * mid < number) : #2*2 <5\n",
        "            start = mid + 1  #start = 3\n",
        "            ans = mid \n",
        "          \n",
        "        # decrementing end if integral part \n",
        "        # lies on the left side of the mid \n",
        "        else : \n",
        "            end = mid - 1\n",
        "          \n",
        "    # For computing the fractional part \n",
        "    # of square root upto given precision \n",
        "    increment = 0.1\n",
        "    for i in range(0, precision):  \n",
        "        while (ans * ans <= number): \n",
        "            ans += increment \n",
        "          \n",
        "        # loop terminates when ans * ans > number \n",
        "        ans = ans - increment \n",
        "        increment = increment / 10\n",
        "      \n",
        "    return ans \n",
        "  \n",
        "# Driver code \n",
        "print(round(squareRoot(50, 3), 4)) \n",
        "print(round(squareRoot(10, 4), 4)) \n",
        "      \n",
        "  \n"
      ],
      "execution_count": 0,
      "outputs": [
        {
          "output_type": "stream",
          "text": [
            "7.071\n",
            "3.1622\n"
          ],
          "name": "stdout"
        }
      ]
    },
    {
      "metadata": {
        "id": "c9tPDoLGt-bw",
        "colab_type": "code",
        "outputId": "0972de91-9cd5-4ff8-c595-41a11275a3ff",
        "colab": {
          "base_uri": "https://localhost:8080/",
          "height": 36
        }
      },
      "cell_type": "code",
      "source": [
        "print (int((0 + 5) / 2))  "
      ],
      "execution_count": 0,
      "outputs": [
        {
          "output_type": "stream",
          "text": [
            "2\n"
          ],
          "name": "stdout"
        }
      ]
    }
  ]
}